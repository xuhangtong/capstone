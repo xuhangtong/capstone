{
  "cells": [
    {
      "cell_type": "markdown",
      "metadata": {
        "id": "view-in-github",
        "colab_type": "text"
      },
      "source": [
        "<a href=\"https://colab.research.google.com/github/xuhangtong/capstone/blob/main/jupyter_labs_eda_dataviz.ipynb\" target=\"_parent\"><img src=\"https://colab.research.google.com/assets/colab-badge.svg\" alt=\"Open In Colab\"/></a>"
      ]
    },
    {
      "cell_type": "markdown",
      "metadata": {
        "id": "3WJGcUaAgcfF"
      },
      "source": [
        "<center>\n",
        "    <img src=\"https://gitlab.com/ibm/skills-network/courses/placeholder101/-/raw/master/labs/module%201/images/IDSNlogo.png\" width=\"300\" alt=\"cognitiveclass.ai logo\"  />\n",
        "</center>\n"
      ]
    },
    {
      "cell_type": "markdown",
      "metadata": {
        "id": "h5U3UBtIgcfJ"
      },
      "source": [
        "# **SpaceX  Falcon 9 First Stage Landing Prediction**\n"
      ]
    },
    {
      "cell_type": "markdown",
      "metadata": {
        "id": "5wGm-7TQgcfK"
      },
      "source": [
        "## Assignment: Exploring and Preparing Data\n"
      ]
    },
    {
      "cell_type": "markdown",
      "metadata": {
        "id": "pmLTeCeRgcfL"
      },
      "source": [
        "Estimated time needed: **70** minutes\n"
      ]
    },
    {
      "cell_type": "markdown",
      "metadata": {
        "id": "KZSzOAwxgcfL"
      },
      "source": [
        "In this assignment, we will predict if the Falcon 9 first stage will land successfully. SpaceX advertises Falcon 9 rocket launches on its website with a cost of 62 million dollars; other providers cost upward of 165 million dollars each, much of the savings is due to the fact that SpaceX can reuse the first stage.\n",
        "\n",
        "In this lab, you will perform Exploratory Data Analysis and Feature Engineering.\n"
      ]
    },
    {
      "cell_type": "markdown",
      "metadata": {
        "id": "cTZG5cAngcfM"
      },
      "source": [
        "Falcon 9 first stage will land successfully\n"
      ]
    },
    {
      "cell_type": "markdown",
      "metadata": {
        "id": "zfACxNn1gcfM"
      },
      "source": [
        "![](https://cf-courses-data.s3.us.cloud-object-storage.appdomain.cloud/IBMDeveloperSkillsNetwork-DS0701EN-SkillsNetwork/api/Images/landing\\_1.gif)\n"
      ]
    },
    {
      "cell_type": "markdown",
      "metadata": {
        "id": "yOJMJrtngcfN"
      },
      "source": [
        "Several examples of an unsuccessful landing are shown here:\n"
      ]
    },
    {
      "cell_type": "markdown",
      "metadata": {
        "id": "KSbEMIMXgcfN"
      },
      "source": [
        "![](https://cf-courses-data.s3.us.cloud-object-storage.appdomain.cloud/IBMDeveloperSkillsNetwork-DS0701EN-SkillsNetwork/api/Images/crash.gif)\n"
      ]
    },
    {
      "cell_type": "markdown",
      "metadata": {
        "id": "vGbPI8DdgcfO"
      },
      "source": [
        "Most unsuccessful landings are planned. Space X performs a controlled landing in the oceans.\n"
      ]
    },
    {
      "cell_type": "markdown",
      "metadata": {
        "id": "6cehk6MpgcfO"
      },
      "source": [
        "## Objectives\n",
        "\n",
        "Perform exploratory Data Analysis and Feature Engineering using `Pandas` and `Matplotlib`\n",
        "\n",
        "*   Exploratory Data Analysis\n",
        "*   Preparing Data  Feature Engineering\n"
      ]
    },
    {
      "cell_type": "markdown",
      "metadata": {
        "id": "hzi_q-plgcfP"
      },
      "source": [
        "***\n"
      ]
    },
    {
      "cell_type": "markdown",
      "metadata": {
        "id": "amZpeEdOgcfP"
      },
      "source": [
        "### Import Libraries and Define Auxiliary Functions\n"
      ]
    },
    {
      "cell_type": "markdown",
      "metadata": {
        "id": "Dctresz1gcfQ"
      },
      "source": [
        "We will import the following libraries the lab\n"
      ]
    },
    {
      "cell_type": "code",
      "execution_count": null,
      "metadata": {
        "id": "GQzu9T6ugcfR"
      },
      "outputs": [],
      "source": [
        "# andas is a software library written for the Python programming language for data manipulation and analysis.\n",
        "import pandas as pd\n",
        "#NumPy is a library for the Python programming language, adding support for large, multi-dimensional arrays and matrices, along with a large collection of high-level mathematical functions to operate on these arrays\n",
        "import numpy as np\n",
        "# Matplotlib is a plotting library for python and pyplot gives us a MatLab like plotting framework. We will use this in our plotter function to plot data.\n",
        "import matplotlib.pyplot as plt\n",
        "#Seaborn is a Python data visualization library based on matplotlib. It provides a high-level interface for drawing attractive and informative statistical graphics\n",
        "import seaborn as sns"
      ]
    },
    {
      "cell_type": "markdown",
      "metadata": {
        "id": "cAWGTak1gcfT"
      },
      "source": [
        "## Exploratory Data Analysis\n"
      ]
    },
    {
      "cell_type": "markdown",
      "metadata": {
        "id": "5Nx5N4MQgcfT"
      },
      "source": [
        "First, let's read the SpaceX dataset into a Pandas dataframe and print its summary\n"
      ]
    },
    {
      "cell_type": "code",
      "execution_count": null,
      "metadata": {
        "colab": {
          "base_uri": "https://localhost:8080/",
          "height": 353
        },
        "id": "LAmIAdyugcfU",
        "outputId": "51e1df46-3ba2-4334-ffd2-813e38c1dbef"
      },
      "outputs": [
        {
          "output_type": "execute_result",
          "data": {
            "text/html": [
              "\n",
              "  <div id=\"df-b44bcb00-0ae7-4d37-89b8-0416a243d2a1\">\n",
              "    <div class=\"colab-df-container\">\n",
              "      <div>\n",
              "<style scoped>\n",
              "    .dataframe tbody tr th:only-of-type {\n",
              "        vertical-align: middle;\n",
              "    }\n",
              "\n",
              "    .dataframe tbody tr th {\n",
              "        vertical-align: top;\n",
              "    }\n",
              "\n",
              "    .dataframe thead th {\n",
              "        text-align: right;\n",
              "    }\n",
              "</style>\n",
              "<table border=\"1\" class=\"dataframe\">\n",
              "  <thead>\n",
              "    <tr style=\"text-align: right;\">\n",
              "      <th></th>\n",
              "      <th>FlightNumber</th>\n",
              "      <th>Date</th>\n",
              "      <th>BoosterVersion</th>\n",
              "      <th>PayloadMass</th>\n",
              "      <th>Orbit</th>\n",
              "      <th>LaunchSite</th>\n",
              "      <th>Outcome</th>\n",
              "      <th>Flights</th>\n",
              "      <th>GridFins</th>\n",
              "      <th>Reused</th>\n",
              "      <th>Legs</th>\n",
              "      <th>LandingPad</th>\n",
              "      <th>Block</th>\n",
              "      <th>ReusedCount</th>\n",
              "      <th>Serial</th>\n",
              "      <th>Longitude</th>\n",
              "      <th>Latitude</th>\n",
              "      <th>Class</th>\n",
              "    </tr>\n",
              "  </thead>\n",
              "  <tbody>\n",
              "    <tr>\n",
              "      <th>0</th>\n",
              "      <td>1</td>\n",
              "      <td>2010-06-04</td>\n",
              "      <td>Falcon 9</td>\n",
              "      <td>6104.959412</td>\n",
              "      <td>LEO</td>\n",
              "      <td>CCAFS SLC 40</td>\n",
              "      <td>None None</td>\n",
              "      <td>1</td>\n",
              "      <td>False</td>\n",
              "      <td>False</td>\n",
              "      <td>False</td>\n",
              "      <td>NaN</td>\n",
              "      <td>1.0</td>\n",
              "      <td>0</td>\n",
              "      <td>B0003</td>\n",
              "      <td>-80.577366</td>\n",
              "      <td>28.561857</td>\n",
              "      <td>0</td>\n",
              "    </tr>\n",
              "    <tr>\n",
              "      <th>1</th>\n",
              "      <td>2</td>\n",
              "      <td>2012-05-22</td>\n",
              "      <td>Falcon 9</td>\n",
              "      <td>525.000000</td>\n",
              "      <td>LEO</td>\n",
              "      <td>CCAFS SLC 40</td>\n",
              "      <td>None None</td>\n",
              "      <td>1</td>\n",
              "      <td>False</td>\n",
              "      <td>False</td>\n",
              "      <td>False</td>\n",
              "      <td>NaN</td>\n",
              "      <td>1.0</td>\n",
              "      <td>0</td>\n",
              "      <td>B0005</td>\n",
              "      <td>-80.577366</td>\n",
              "      <td>28.561857</td>\n",
              "      <td>0</td>\n",
              "    </tr>\n",
              "    <tr>\n",
              "      <th>2</th>\n",
              "      <td>3</td>\n",
              "      <td>2013-03-01</td>\n",
              "      <td>Falcon 9</td>\n",
              "      <td>677.000000</td>\n",
              "      <td>ISS</td>\n",
              "      <td>CCAFS SLC 40</td>\n",
              "      <td>None None</td>\n",
              "      <td>1</td>\n",
              "      <td>False</td>\n",
              "      <td>False</td>\n",
              "      <td>False</td>\n",
              "      <td>NaN</td>\n",
              "      <td>1.0</td>\n",
              "      <td>0</td>\n",
              "      <td>B0007</td>\n",
              "      <td>-80.577366</td>\n",
              "      <td>28.561857</td>\n",
              "      <td>0</td>\n",
              "    </tr>\n",
              "    <tr>\n",
              "      <th>3</th>\n",
              "      <td>4</td>\n",
              "      <td>2013-09-29</td>\n",
              "      <td>Falcon 9</td>\n",
              "      <td>500.000000</td>\n",
              "      <td>PO</td>\n",
              "      <td>VAFB SLC 4E</td>\n",
              "      <td>False Ocean</td>\n",
              "      <td>1</td>\n",
              "      <td>False</td>\n",
              "      <td>False</td>\n",
              "      <td>False</td>\n",
              "      <td>NaN</td>\n",
              "      <td>1.0</td>\n",
              "      <td>0</td>\n",
              "      <td>B1003</td>\n",
              "      <td>-120.610829</td>\n",
              "      <td>34.632093</td>\n",
              "      <td>0</td>\n",
              "    </tr>\n",
              "    <tr>\n",
              "      <th>4</th>\n",
              "      <td>5</td>\n",
              "      <td>2013-12-03</td>\n",
              "      <td>Falcon 9</td>\n",
              "      <td>3170.000000</td>\n",
              "      <td>GTO</td>\n",
              "      <td>CCAFS SLC 40</td>\n",
              "      <td>None None</td>\n",
              "      <td>1</td>\n",
              "      <td>False</td>\n",
              "      <td>False</td>\n",
              "      <td>False</td>\n",
              "      <td>NaN</td>\n",
              "      <td>1.0</td>\n",
              "      <td>0</td>\n",
              "      <td>B1004</td>\n",
              "      <td>-80.577366</td>\n",
              "      <td>28.561857</td>\n",
              "      <td>0</td>\n",
              "    </tr>\n",
              "  </tbody>\n",
              "</table>\n",
              "</div>\n",
              "      <button class=\"colab-df-convert\" onclick=\"convertToInteractive('df-b44bcb00-0ae7-4d37-89b8-0416a243d2a1')\"\n",
              "              title=\"Convert this dataframe to an interactive table.\"\n",
              "              style=\"display:none;\">\n",
              "        \n",
              "  <svg xmlns=\"http://www.w3.org/2000/svg\" height=\"24px\"viewBox=\"0 0 24 24\"\n",
              "       width=\"24px\">\n",
              "    <path d=\"M0 0h24v24H0V0z\" fill=\"none\"/>\n",
              "    <path d=\"M18.56 5.44l.94 2.06.94-2.06 2.06-.94-2.06-.94-.94-2.06-.94 2.06-2.06.94zm-11 1L8.5 8.5l.94-2.06 2.06-.94-2.06-.94L8.5 2.5l-.94 2.06-2.06.94zm10 10l.94 2.06.94-2.06 2.06-.94-2.06-.94-.94-2.06-.94 2.06-2.06.94z\"/><path d=\"M17.41 7.96l-1.37-1.37c-.4-.4-.92-.59-1.43-.59-.52 0-1.04.2-1.43.59L10.3 9.45l-7.72 7.72c-.78.78-.78 2.05 0 2.83L4 21.41c.39.39.9.59 1.41.59.51 0 1.02-.2 1.41-.59l7.78-7.78 2.81-2.81c.8-.78.8-2.07 0-2.86zM5.41 20L4 18.59l7.72-7.72 1.47 1.35L5.41 20z\"/>\n",
              "  </svg>\n",
              "      </button>\n",
              "      \n",
              "  <style>\n",
              "    .colab-df-container {\n",
              "      display:flex;\n",
              "      flex-wrap:wrap;\n",
              "      gap: 12px;\n",
              "    }\n",
              "\n",
              "    .colab-df-convert {\n",
              "      background-color: #E8F0FE;\n",
              "      border: none;\n",
              "      border-radius: 50%;\n",
              "      cursor: pointer;\n",
              "      display: none;\n",
              "      fill: #1967D2;\n",
              "      height: 32px;\n",
              "      padding: 0 0 0 0;\n",
              "      width: 32px;\n",
              "    }\n",
              "\n",
              "    .colab-df-convert:hover {\n",
              "      background-color: #E2EBFA;\n",
              "      box-shadow: 0px 1px 2px rgba(60, 64, 67, 0.3), 0px 1px 3px 1px rgba(60, 64, 67, 0.15);\n",
              "      fill: #174EA6;\n",
              "    }\n",
              "\n",
              "    [theme=dark] .colab-df-convert {\n",
              "      background-color: #3B4455;\n",
              "      fill: #D2E3FC;\n",
              "    }\n",
              "\n",
              "    [theme=dark] .colab-df-convert:hover {\n",
              "      background-color: #434B5C;\n",
              "      box-shadow: 0px 1px 3px 1px rgba(0, 0, 0, 0.15);\n",
              "      filter: drop-shadow(0px 1px 2px rgba(0, 0, 0, 0.3));\n",
              "      fill: #FFFFFF;\n",
              "    }\n",
              "  </style>\n",
              "\n",
              "      <script>\n",
              "        const buttonEl =\n",
              "          document.querySelector('#df-b44bcb00-0ae7-4d37-89b8-0416a243d2a1 button.colab-df-convert');\n",
              "        buttonEl.style.display =\n",
              "          google.colab.kernel.accessAllowed ? 'block' : 'none';\n",
              "\n",
              "        async function convertToInteractive(key) {\n",
              "          const element = document.querySelector('#df-b44bcb00-0ae7-4d37-89b8-0416a243d2a1');\n",
              "          const dataTable =\n",
              "            await google.colab.kernel.invokeFunction('convertToInteractive',\n",
              "                                                     [key], {});\n",
              "          if (!dataTable) return;\n",
              "\n",
              "          const docLinkHtml = 'Like what you see? Visit the ' +\n",
              "            '<a target=\"_blank\" href=https://colab.research.google.com/notebooks/data_table.ipynb>data table notebook</a>'\n",
              "            + ' to learn more about interactive tables.';\n",
              "          element.innerHTML = '';\n",
              "          dataTable['output_type'] = 'display_data';\n",
              "          await google.colab.output.renderOutput(dataTable, element);\n",
              "          const docLink = document.createElement('div');\n",
              "          docLink.innerHTML = docLinkHtml;\n",
              "          element.appendChild(docLink);\n",
              "        }\n",
              "      </script>\n",
              "    </div>\n",
              "  </div>\n",
              "  "
            ],
            "text/plain": [
              "   FlightNumber        Date BoosterVersion  ...   Longitude   Latitude Class\n",
              "0             1  2010-06-04       Falcon 9  ...  -80.577366  28.561857     0\n",
              "1             2  2012-05-22       Falcon 9  ...  -80.577366  28.561857     0\n",
              "2             3  2013-03-01       Falcon 9  ...  -80.577366  28.561857     0\n",
              "3             4  2013-09-29       Falcon 9  ... -120.610829  34.632093     0\n",
              "4             5  2013-12-03       Falcon 9  ...  -80.577366  28.561857     0\n",
              "\n",
              "[5 rows x 18 columns]"
            ]
          },
          "metadata": {},
          "execution_count": 2
        }
      ],
      "source": [
        "df=pd.read_csv(\"https://cf-courses-data.s3.us.cloud-object-storage.appdomain.cloud/IBM-DS0321EN-SkillsNetwork/datasets/dataset_part_2.csv\")\n",
        "\n",
        "# If you were unable to complete the previous lab correctly you can uncomment and load this csv\n",
        "\n",
        "# df = pd.read_csv('https://cf-courses-data.s3.us.cloud-object-storage.appdomain.cloud/IBMDeveloperSkillsNetwork-DS0701EN-SkillsNetwork/api/dataset_part_2.csv')\n",
        "\n",
        "df.head(5)"
      ]
    },
    {
      "cell_type": "markdown",
      "metadata": {
        "id": "yyE6EeJQgcfV"
      },
      "source": [
        "First, let's try to see how the `FlightNumber` (indicating the continuous launch attempts.) and `Payload` variables would affect the launch outcome.\n",
        "\n",
        "We can plot out the <code>FlightNumber</code> vs. <code>PayloadMass</code>and overlay the outcome of the launch. We see that as the flight number increases, the first stage is more likely to land successfully. The payload mass is also important; it seems the more massive the payload, the less likely the first stage will return.\n"
      ]
    },
    {
      "cell_type": "code",
      "execution_count": null,
      "metadata": {
        "colab": {
          "base_uri": "https://localhost:8080/",
          "height": 251
        },
        "id": "Mk2B82O9gcfW",
        "outputId": "c30bb78c-26a3-4fac-bdc0-cb71d77e150c"
      },
      "outputs": [
        {
          "output_type": "display_data",
          "data": {
            "image/png": "[encoded data removed]",
            "text/plain": [
              "<Figure size 1842.38x360 with 1 Axes>"
            ]
          },
          "metadata": {
            "needs_background": "light"
          }
        }
      ],
      "source": [
        "sns.catplot(y=\"PayloadMass\", x=\"FlightNumber\", hue=\"Class\", data=df, aspect = 5)\n",
        "plt.xlabel(\"Flight Number\",fontsize=20)\n",
        "plt.ylabel(\"Pay load Mass (kg)\",fontsize=20)\n",
        "plt.show()"
      ]
    },
    {
      "cell_type": "markdown",
      "metadata": {
        "id": "42sO-aYbgcfW"
      },
      "source": [
        "We see that different launch sites have different success rates.  <code>CCAFS LC-40</code>, has a success rate of 60 %, while  <code>KSC LC-39A</code> and <code>VAFB SLC 4E</code> has a success rate of 77%.\n"
      ]
    },
    {
      "cell_type": "markdown",
      "metadata": {
        "id": "Fd_hukPugcfX"
      },
      "source": [
        "Next, let's drill down to each site visualize its detailed launch records.\n"
      ]
    },
    {
      "cell_type": "markdown",
      "metadata": {
        "id": "r8XPtkrRgcfX"
      },
      "source": [
        "### TASK 1: Visualize the relationship between Flight Number and Launch Site\n"
      ]
    },
    {
      "cell_type": "markdown",
      "metadata": {
        "id": "WOm6NRS7gcfX"
      },
      "source": [
        "Use the function <code>catplot</code> to plot <code>FlightNumber</code> vs <code>LaunchSite</code>, set the  parameter <code>x</code>  parameter to <code>FlightNumber</code>,set the  <code>y</code> to <code>Launch Site</code> and set the parameter <code>hue</code> to <code>'class'</code>\n"
      ]
    },
    {
      "cell_type": "code",
      "execution_count": null,
      "metadata": {
        "colab": {
          "base_uri": "https://localhost:8080/",
          "height": 251
        },
        "id": "FQoCoFPzgcfY",
        "outputId": "07d9d8fe-d5bf-4a1b-c076-31bc0b14bce2"
      },
      "outputs": [
        {
          "output_type": "display_data",
          "data": {
            "image/png": "[encoded data removed]",
            "text/plain": [
              "<Figure size 1842.38x360 with 1 Axes>"
            ]
          },
          "metadata": {
            "needs_background": "light"
          }
        }
      ],
      "source": [
        "# Plot a scatter point chart with x axis to be Flight Number and y axis to be the launch site, and hue to be the class value\n",
        "sns.catplot(y=\"LaunchSite\", x=\"FlightNumber\", hue=\"Class\", data=df, aspect = 5)\n",
        "plt.xlabel(\"Flight Number\",fontsize=20)\n",
        "plt.ylabel(\"LaunchSite\",fontsize=20)\n",
        "plt.show()"
      ]
    },
    {
      "cell_type": "markdown",
      "metadata": {
        "id": "NrzA5zU1gcfY"
      },
      "source": [
        "Now try to explain the patterns you found in the Flight Number vs. Launch Site scatter point plots.\n"
      ]
    },
    {
      "cell_type": "markdown",
      "metadata": {
        "id": "zU2VISK9gcfY"
      },
      "source": [
        "### TASK 2: Visualize the relationship between Payload and Launch Site\n"
      ]
    },
    {
      "cell_type": "markdown",
      "metadata": {
        "id": "rsedtqx2gcfZ"
      },
      "source": [
        "We also want to observe if there is any relationship between launch sites and their payload mass.\n"
      ]
    },
    {
      "cell_type": "code",
      "execution_count": null,
      "metadata": {
        "colab": {
          "base_uri": "https://localhost:8080/",
          "height": 251
        },
        "id": "P62hwcf_gcfZ",
        "outputId": "268783c7-d632-47ae-d070-bcd796239727"
      },
      "outputs": [
        {
          "output_type": "display_data",
          "data": {
            "image/png": "[encoded data removed]",
            "text/plain": [
              "<Figure size 1842.38x360 with 1 Axes>"
            ]
          },
          "metadata": {
            "needs_background": "light"
          }
        }
      ],
      "source": [
        "# Plot a scatter point chart with x axis to be Pay Load Mass (kg) and y axis to be the launch site, and hue to be the class value\n",
        "sns.catplot(y=\"LaunchSite\", x=\"PayloadMass\", hue=\"Class\", data=df, aspect = 5)\n",
        "plt.xlabel(\"Payload Mass (Kg)\",fontsize=20)\n",
        "plt.ylabel(\"LaunchSite\",fontsize=20)\n",
        "plt.show()"
      ]
    },
    {
      "cell_type": "markdown",
      "metadata": {
        "id": "MiV88R7Hgcfa"
      },
      "source": [
        "Now if you observe Payload Vs. Launch Site scatter point chart you will find for the VAFB-SLC  launchsite there are no  rockets  launched for  heavypayload mass(greater than 10000).\n"
      ]
    },
    {
      "cell_type": "markdown",
      "metadata": {
        "id": "oNRm8QHvgcfa"
      },
      "source": [
        "### TASK  3: Visualize the relationship between success rate of each orbit type\n"
      ]
    },
    {
      "cell_type": "markdown",
      "metadata": {
        "id": "0laKBH5Bgcfb"
      },
      "source": [
        "Next, we want to visually check if there are any relationship between success rate and orbit type.\n"
      ]
    },
    {
      "cell_type": "markdown",
      "metadata": {
        "id": "HhdTpfhJgcfd"
      },
      "source": [
        "Let's create a `bar chart` for the sucess rate of each orbit\n",
        "\n",
        "1.   List item\n",
        "2.   List item\n",
        "\n",
        "\n"
      ]
    },
    {
      "cell_type": "code",
      "execution_count": null,
      "metadata": {
        "colab": {
          "base_uri": "https://localhost:8080/",
          "height": 296
        },
        "id": "-YKc__Jbgcfe",
        "outputId": "d93e8e08-1d3d-4010-cb76-86ec945d86e7"
      },
      "outputs": [
        {
          "output_type": "execute_result",
          "data": {
            "text/plain": [
              "<matplotlib.axes._subplots.AxesSubplot at 0x7f717e431c10>"
            ]
          },
          "metadata": {},
          "execution_count": 7
        },
        {
          "output_type": "display_data",
          "data": {
            "image/png": "[encoded data removed]",
            "text/plain": [
              "<Figure size 432x288 with 1 Axes>"
            ]
          },
          "metadata": {
            "needs_background": "light"
          }
        }
      ],
      "source": [
        "# HINT use groupby method on Orbit column and get the mean of Class column\n",
        "sns.barplot(x = 'Orbit', y = 'Class', data =df)"
      ]
    },
    {
      "cell_type": "markdown",
      "metadata": {
        "id": "n5rfd7_Wgcfg"
      },
      "source": [
        "Analyze the ploted bar chart try to find which orbits have high sucess rate.\n"
      ]
    },
    {
      "cell_type": "markdown",
      "metadata": {
        "id": "E5_Mr0yEgcfh"
      },
      "source": [
        "### TASK  4: Visualize the relationship between FlightNumber and Orbit type\n"
      ]
    },
    {
      "cell_type": "markdown",
      "metadata": {
        "id": "RRfg3x0Sgcfi"
      },
      "source": [
        "For each orbit, we want to see if there is any relationship between FlightNumber and Orbit type.\n"
      ]
    },
    {
      "cell_type": "code",
      "execution_count": null,
      "metadata": {
        "colab": {
          "base_uri": "https://localhost:8080/",
          "height": 251
        },
        "id": "ZhGFncpqgcfi",
        "outputId": "a1f38887-875e-42c5-acf9-b3562db0e270"
      },
      "outputs": [
        {
          "output_type": "display_data",
          "data": {
            "image/png": "[encoded data removed]",
            "text/plain": [
              "<Figure size 1842.38x360 with 1 Axes>"
            ]
          },
          "metadata": {
            "needs_background": "light"
          }
        }
      ],
      "source": [
        "# Plot a scatter point chart with x axis to be FlightNumber and y axis to be the Orbit, and hue to be the class value\n",
        "sns.catplot(y=\"Orbit\", x=\"FlightNumber\", hue=\"Class\", data=df, aspect = 5)\n",
        "plt.xlabel(\"Flight Number\",fontsize=20)\n",
        "plt.ylabel(\"Orbit\",fontsize=20)\n",
        "plt.show()"
      ]
    },
    {
      "cell_type": "markdown",
      "metadata": {
        "id": "1ONBWuxjgcfj"
      },
      "source": [
        "You should see that in the LEO orbit the Success appears related to the number of flights; on the other hand, there seems to be no relationship between flight number when in GTO orbit.\n"
      ]
    },
    {
      "cell_type": "markdown",
      "metadata": {
        "id": "LlQftQ3Mgcfj"
      },
      "source": [
        "### TASK  5: Visualize the relationship between Payload and Orbit type\n"
      ]
    },
    {
      "cell_type": "markdown",
      "metadata": {
        "id": "nXf9HhvJgcfk"
      },
      "source": [
        "Similarly, we can plot the Payload vs. Orbit scatter point charts to reveal the relationship between Payload and Orbit type\n"
      ]
    },
    {
      "cell_type": "code",
      "execution_count": null,
      "metadata": {
        "colab": {
          "base_uri": "https://localhost:8080/",
          "height": 251
        },
        "id": "xtfrONGtgcfk",
        "outputId": "cf3232ee-1a48-41fe-8378-094461468075"
      },
      "outputs": [
        {
          "output_type": "display_data",
          "data": {
            "image/png": "[encoded data removed]",
            "text/plain": [
              "<Figure size 1842.38x360 with 1 Axes>"
            ]
          },
          "metadata": {
            "needs_background": "light"
          }
        }
      ],
      "source": [
        "# Plot a scatter point chart with x axis to be Payload and y axis to be the Orbit, and hue to be the class value\n",
        "sns.catplot(y=\"Orbit\", x=\"PayloadMass\", hue=\"Class\", data=df, aspect = 5)\n",
        "plt.xlabel(\"PayloadMass\",fontsize=20)\n",
        "plt.ylabel(\"Orbit\",fontsize=20)\n",
        "plt.show()"
      ]
    },
    {
      "cell_type": "markdown",
      "metadata": {
        "id": "_dzlAGQ-gcfl"
      },
      "source": [
        "With heavy payloads the successful landing or positive landing rate are more for Polar,LEO and ISS.\n",
        "\n",
        "However for GTO we cannot distinguish this well as both positive landing rate and negative landing(unsuccessful mission) are both there here.\n"
      ]
    },
    {
      "cell_type": "markdown",
      "metadata": {
        "id": "sr5SVOJOgcfm"
      },
      "source": [
        "### TASK  6: Visualize the launch success yearly trend\n"
      ]
    },
    {
      "cell_type": "markdown",
      "metadata": {
        "id": "V3COWwLGgcfm"
      },
      "source": [
        "You can plot a line chart with x axis to be <code>Year</code> and y axis to be average success rate, to get the average launch success trend.\n"
      ]
    },
    {
      "cell_type": "markdown",
      "metadata": {
        "id": "Vy-rV58Fgcfm"
      },
      "source": [
        "The function will help you get the year from the date:\n"
      ]
    },
    {
      "cell_type": "code",
      "execution_count": null,
      "metadata": {
        "colab": {
          "base_uri": "https://localhost:8080/"
        },
        "id": "_6GrWxXigcfn",
        "outputId": "679aefbf-4503-4e7b-d1cf-33d1d9f4bc60"
      },
      "outputs": [
        {
          "output_type": "execute_result",
          "data": {
            "text/plain": [
              "['2010',\n",
              " '2012',\n",
              " '2013',\n",
              " '2013',\n",
              " '2013',\n",
              " '2014',\n",
              " '2014',\n",
              " '2014',\n",
              " '2014',\n",
              " '2014',\n",
              " '2014',\n",
              " '2015',\n",
              " '2015',\n",
              " '2015',\n",
              " '2015',\n",
              " '2015',\n",
              " '2015',\n",
              " '2016',\n",
              " '2016',\n",
              " '2016',\n",
              " '2016',\n",
              " '2016',\n",
              " '2016',\n",
              " '2016',\n",
              " '2016',\n",
              " '2017',\n",
              " '2017',\n",
              " '2017',\n",
              " '2017',\n",
              " '2017',\n",
              " '2017',\n",
              " '2017',\n",
              " '2017',\n",
              " '2017',\n",
              " '2017',\n",
              " '2017',\n",
              " '2017',\n",
              " '2017',\n",
              " '2017',\n",
              " '2017',\n",
              " '2017',\n",
              " '2017',\n",
              " '2017',\n",
              " '2018',\n",
              " '2018',\n",
              " '2018',\n",
              " '2018',\n",
              " '2018',\n",
              " '2018',\n",
              " '2018',\n",
              " '2018',\n",
              " '2018',\n",
              " '2018',\n",
              " '2018',\n",
              " '2018',\n",
              " '2018',\n",
              " '2018',\n",
              " '2018',\n",
              " '2018',\n",
              " '2018',\n",
              " '2018',\n",
              " '2019',\n",
              " '2019',\n",
              " '2019',\n",
              " '2019',\n",
              " '2019',\n",
              " '2019',\n",
              " '2019',\n",
              " '2019',\n",
              " '2019',\n",
              " '2019',\n",
              " '2020',\n",
              " '2020',\n",
              " '2020',\n",
              " '2020',\n",
              " '2020',\n",
              " '2020',\n",
              " '2020',\n",
              " '2020',\n",
              " '2020',\n",
              " '2020',\n",
              " '2020',\n",
              " '2020',\n",
              " '2020',\n",
              " '2020',\n",
              " '2020',\n",
              " '2020',\n",
              " '2020',\n",
              " '2020',\n",
              " '2020',\n",
              " '2010',\n",
              " '2012',\n",
              " '2013',\n",
              " '2013',\n",
              " '2013',\n",
              " '2014',\n",
              " '2014',\n",
              " '2014',\n",
              " '2014',\n",
              " '2014',\n",
              " '2014',\n",
              " '2015',\n",
              " '2015',\n",
              " '2015',\n",
              " '2015',\n",
              " '2015',\n",
              " '2015',\n",
              " '2016',\n",
              " '2016',\n",
              " '2016',\n",
              " '2016',\n",
              " '2016',\n",
              " '2016',\n",
              " '2016',\n",
              " '2016',\n",
              " '2017',\n",
              " '2017',\n",
              " '2017',\n",
              " '2017',\n",
              " '2017',\n",
              " '2017',\n",
              " '2017',\n",
              " '2017',\n",
              " '2017',\n",
              " '2017',\n",
              " '2017',\n",
              " '2017',\n",
              " '2017',\n",
              " '2017',\n",
              " '2017',\n",
              " '2017',\n",
              " '2017',\n",
              " '2017',\n",
              " '2018',\n",
              " '2018',\n",
              " '2018',\n",
              " '2018',\n",
              " '2018',\n",
              " '2018',\n",
              " '2018',\n",
              " '2018',\n",
              " '2018',\n",
              " '2018',\n",
              " '2018',\n",
              " '2018',\n",
              " '2018',\n",
              " '2018',\n",
              " '2018',\n",
              " '2018',\n",
              " '2018',\n",
              " '2018',\n",
              " '2019',\n",
              " '2019',\n",
              " '2019',\n",
              " '2019',\n",
              " '2019',\n",
              " '2019',\n",
              " '2019',\n",
              " '2019',\n",
              " '2019',\n",
              " '2019',\n",
              " '2020',\n",
              " '2020',\n",
              " '2020',\n",
              " '2020',\n",
              " '2020',\n",
              " '2020',\n",
              " '2020',\n",
              " '2020',\n",
              " '2020',\n",
              " '2020',\n",
              " '2020',\n",
              " '2020',\n",
              " '2020',\n",
              " '2020',\n",
              " '2020',\n",
              " '2020',\n",
              " '2020',\n",
              " '2020',\n",
              " '2020',\n",
              " '2010',\n",
              " '2012',\n",
              " '2013',\n",
              " '2013',\n",
              " '2013',\n",
              " '2014',\n",
              " '2014',\n",
              " '2014',\n",
              " '2014',\n",
              " '2014',\n",
              " '2014',\n",
              " '2015',\n",
              " '2015',\n",
              " '2015',\n",
              " '2015',\n",
              " '2015',\n",
              " '2015',\n",
              " '2016',\n",
              " '2016',\n",
              " '2016',\n",
              " '2016',\n",
              " '2016',\n",
              " '2016',\n",
              " '2016',\n",
              " '2016',\n",
              " '2017',\n",
              " '2017',\n",
              " '2017',\n",
              " '2017',\n",
              " '2017',\n",
              " '2017',\n",
              " '2017',\n",
              " '2017',\n",
              " '2017',\n",
              " '2017',\n",
              " '2017',\n",
              " '2017',\n",
              " '2017',\n",
              " '2017',\n",
              " '2017',\n",
              " '2017',\n",
              " '2017',\n",
              " '2017',\n",
              " '2018',\n",
              " '2018',\n",
              " '2018',\n",
              " '2018',\n",
              " '2018',\n",
              " '2018',\n",
              " '2018',\n",
              " '2018',\n",
              " '2018',\n",
              " '2018',\n",
              " '2018',\n",
              " '2018',\n",
              " '2018',\n",
              " '2018',\n",
              " '2018',\n",
              " '2018',\n",
              " '2018',\n",
              " '2018',\n",
              " '2019',\n",
              " '2019',\n",
              " '2019',\n",
              " '2019',\n",
              " '2019',\n",
              " '2019',\n",
              " '2019',\n",
              " '2019',\n",
              " '2019',\n",
              " '2019',\n",
              " '2020',\n",
              " '2020',\n",
              " '2020',\n",
              " '2020',\n",
              " '2020',\n",
              " '2020',\n",
              " '2020',\n",
              " '2020',\n",
              " '2020',\n",
              " '2020',\n",
              " '2020',\n",
              " '2020',\n",
              " '2020',\n",
              " '2020',\n",
              " '2020',\n",
              " '2020',\n",
              " '2020',\n",
              " '2020',\n",
              " '2020',\n",
              " '2010',\n",
              " '2012',\n",
              " '2013',\n",
              " '2013',\n",
              " '2013',\n",
              " '2014',\n",
              " '2014',\n",
              " '2014',\n",
              " '2014',\n",
              " '2014',\n",
              " '2014',\n",
              " '2015',\n",
              " '2015',\n",
              " '2015',\n",
              " '2015',\n",
              " '2015',\n",
              " '2015',\n",
              " '2016',\n",
              " '2016',\n",
              " '2016',\n",
              " '2016',\n",
              " '2016',\n",
              " '2016',\n",
              " '2016',\n",
              " '2016',\n",
              " '2017',\n",
              " '2017',\n",
              " '2017',\n",
              " '2017',\n",
              " '2017',\n",
              " '2017',\n",
              " '2017',\n",
              " '2017',\n",
              " '2017',\n",
              " '2017',\n",
              " '2017',\n",
              " '2017',\n",
              " '2017',\n",
              " '2017',\n",
              " '2017',\n",
              " '2017',\n",
              " '2017',\n",
              " '2017',\n",
              " '2018',\n",
              " '2018',\n",
              " '2018',\n",
              " '2018',\n",
              " '2018',\n",
              " '2018',\n",
              " '2018',\n",
              " '2018',\n",
              " '2018',\n",
              " '2018',\n",
              " '2018',\n",
              " '2018',\n",
              " '2018',\n",
              " '2018',\n",
              " '2018',\n",
              " '2018',\n",
              " '2018',\n",
              " '2018',\n",
              " '2019',\n",
              " '2019',\n",
              " '2019',\n",
              " '2019',\n",
              " '2019',\n",
              " '2019',\n",
              " '2019',\n",
              " '2019',\n",
              " '2019',\n",
              " '2019',\n",
              " '2020',\n",
              " '2020',\n",
              " '2020',\n",
              " '2020',\n",
              " '2020',\n",
              " '2020',\n",
              " '2020',\n",
              " '2020',\n",
              " '2020',\n",
              " '2020',\n",
              " '2020',\n",
              " '2020',\n",
              " '2020',\n",
              " '2020',\n",
              " '2020',\n",
              " '2020',\n",
              " '2020',\n",
              " '2020',\n",
              " '2020',\n",
              " '2010',\n",
              " '2012',\n",
              " '2013',\n",
              " '2013',\n",
              " '2013',\n",
              " '2014',\n",
              " '2014',\n",
              " '2014',\n",
              " '2014',\n",
              " '2014',\n",
              " '2014',\n",
              " '2015',\n",
              " '2015',\n",
              " '2015',\n",
              " '2015',\n",
              " '2015',\n",
              " '2015',\n",
              " '2016',\n",
              " '2016',\n",
              " '2016',\n",
              " '2016',\n",
              " '2016',\n",
              " '2016',\n",
              " '2016',\n",
              " '2016',\n",
              " '2017',\n",
              " '2017',\n",
              " '2017',\n",
              " '2017',\n",
              " '2017',\n",
              " '2017',\n",
              " '2017',\n",
              " '2017',\n",
              " '2017',\n",
              " '2017',\n",
              " '2017',\n",
              " '2017',\n",
              " '2017',\n",
              " '2017',\n",
              " '2017',\n",
              " '2017',\n",
              " '2017',\n",
              " '2017',\n",
              " '2018',\n",
              " '2018',\n",
              " '2018',\n",
              " '2018',\n",
              " '2018',\n",
              " '2018',\n",
              " '2018',\n",
              " '2018',\n",
              " '2018',\n",
              " '2018',\n",
              " '2018',\n",
              " '2018',\n",
              " '2018',\n",
              " '2018',\n",
              " '2018',\n",
              " '2018',\n",
              " '2018',\n",
              " '2018',\n",
              " '2019',\n",
              " '2019',\n",
              " '2019',\n",
              " '2019',\n",
              " '2019',\n",
              " '2019',\n",
              " '2019',\n",
              " '2019',\n",
              " '2019',\n",
              " '2019',\n",
              " '2020',\n",
              " '2020',\n",
              " '2020',\n",
              " '2020',\n",
              " '2020',\n",
              " '2020',\n",
              " '2020',\n",
              " '2020',\n",
              " '2020',\n",
              " '2020',\n",
              " '2020',\n",
              " '2020',\n",
              " '2020',\n",
              " '2020',\n",
              " '2020',\n",
              " '2020',\n",
              " '2020',\n",
              " '2020',\n",
              " '2020',\n",
              " '2010',\n",
              " '2012',\n",
              " '2013',\n",
              " '2013',\n",
              " '2013',\n",
              " '2014',\n",
              " '2014',\n",
              " '2014',\n",
              " '2014',\n",
              " '2014',\n",
              " '2014',\n",
              " '2015',\n",
              " '2015',\n",
              " '2015',\n",
              " '2015',\n",
              " '2015',\n",
              " '2015',\n",
              " '2016',\n",
              " '2016',\n",
              " '2016',\n",
              " '2016',\n",
              " '2016',\n",
              " '2016',\n",
              " '2016',\n",
              " '2016',\n",
              " '2017',\n",
              " '2017',\n",
              " '2017',\n",
              " '2017',\n",
              " '2017',\n",
              " '2017',\n",
              " '2017',\n",
              " '2017',\n",
              " '2017',\n",
              " '2017',\n",
              " '2017',\n",
              " '2017',\n",
              " '2017',\n",
              " '2017',\n",
              " '2017',\n",
              " '2017',\n",
              " '2017',\n",
              " '2017',\n",
              " '2018',\n",
              " '2018',\n",
              " '2018',\n",
              " '2018',\n",
              " '2018',\n",
              " '2018',\n",
              " '2018',\n",
              " '2018',\n",
              " '2018',\n",
              " '2018',\n",
              " '2018',\n",
              " '2018',\n",
              " '2018',\n",
              " '2018',\n",
              " '2018',\n",
              " '2018',\n",
              " '2018',\n",
              " '2018',\n",
              " '2019',\n",
              " '2019',\n",
              " '2019',\n",
              " '2019',\n",
              " '2019',\n",
              " '2019',\n",
              " '2019',\n",
              " '2019',\n",
              " '2019',\n",
              " '2019',\n",
              " '2020',\n",
              " '2020',\n",
              " '2020',\n",
              " '2020',\n",
              " '2020',\n",
              " '2020',\n",
              " '2020',\n",
              " '2020',\n",
              " '2020',\n",
              " '2020',\n",
              " '2020',\n",
              " '2020',\n",
              " '2020',\n",
              " '2020',\n",
              " '2020',\n",
              " '2020',\n",
              " '2020',\n",
              " '2020',\n",
              " '2020',\n",
              " '2010',\n",
              " '2012',\n",
              " '2013',\n",
              " '2013',\n",
              " '2013',\n",
              " '2014',\n",
              " '2014',\n",
              " '2014',\n",
              " '2014',\n",
              " '2014',\n",
              " '2014',\n",
              " '2015',\n",
              " '2015',\n",
              " '2015',\n",
              " '2015',\n",
              " '2015',\n",
              " '2015',\n",
              " '2016',\n",
              " '2016',\n",
              " '2016',\n",
              " '2016',\n",
              " '2016',\n",
              " '2016',\n",
              " '2016',\n",
              " '2016',\n",
              " '2017',\n",
              " '2017',\n",
              " '2017',\n",
              " '2017',\n",
              " '2017',\n",
              " '2017',\n",
              " '2017',\n",
              " '2017',\n",
              " '2017',\n",
              " '2017',\n",
              " '2017',\n",
              " '2017',\n",
              " '2017',\n",
              " '2017',\n",
              " '2017',\n",
              " '2017',\n",
              " '2017',\n",
              " '2017',\n",
              " '2018',\n",
              " '2018',\n",
              " '2018',\n",
              " '2018',\n",
              " '2018',\n",
              " '2018',\n",
              " '2018',\n",
              " '2018',\n",
              " '2018',\n",
              " '2018',\n",
              " '2018',\n",
              " '2018',\n",
              " '2018',\n",
              " '2018',\n",
              " '2018',\n",
              " '2018',\n",
              " '2018',\n",
              " '2018',\n",
              " '2019',\n",
              " '2019',\n",
              " '2019',\n",
              " '2019',\n",
              " '2019',\n",
              " '2019',\n",
              " '2019',\n",
              " '2019',\n",
              " '2019',\n",
              " '2019',\n",
              " '2020',\n",
              " '2020',\n",
              " '2020',\n",
              " '2020',\n",
              " '2020',\n",
              " '2020',\n",
              " '2020',\n",
              " '2020',\n",
              " '2020',\n",
              " '2020',\n",
              " '2020',\n",
              " '2020',\n",
              " '2020',\n",
              " '2020',\n",
              " '2020',\n",
              " '2020',\n",
              " '2020',\n",
              " '2020',\n",
              " '2020',\n",
              " '2010',\n",
              " '2012',\n",
              " '2013',\n",
              " '2013',\n",
              " '2013',\n",
              " '2014',\n",
              " '2014',\n",
              " '2014',\n",
              " '2014',\n",
              " '2014',\n",
              " '2014',\n",
              " '2015',\n",
              " '2015',\n",
              " '2015',\n",
              " '2015',\n",
              " '2015',\n",
              " '2015',\n",
              " '2016',\n",
              " '2016',\n",
              " '2016',\n",
              " '2016',\n",
              " '2016',\n",
              " '2016',\n",
              " '2016',\n",
              " '2016',\n",
              " '2017',\n",
              " '2017',\n",
              " '2017',\n",
              " '2017',\n",
              " '2017',\n",
              " '2017',\n",
              " '2017',\n",
              " '2017',\n",
              " '2017',\n",
              " '2017',\n",
              " '2017',\n",
              " '2017',\n",
              " '2017',\n",
              " '2017',\n",
              " '2017',\n",
              " '2017',\n",
              " '2017',\n",
              " '2017',\n",
              " '2018',\n",
              " '2018',\n",
              " '2018',\n",
              " '2018',\n",
              " '2018',\n",
              " '2018',\n",
              " '2018',\n",
              " '2018',\n",
              " '2018',\n",
              " '2018',\n",
              " '2018',\n",
              " '2018',\n",
              " '2018',\n",
              " '2018',\n",
              " '2018',\n",
              " '2018',\n",
              " '2018',\n",
              " '2018',\n",
              " '2019',\n",
              " '2019',\n",
              " '2019',\n",
              " '2019',\n",
              " '2019',\n",
              " '2019',\n",
              " '2019',\n",
              " '2019',\n",
              " '2019',\n",
              " '2019',\n",
              " '2020',\n",
              " '2020',\n",
              " '2020',\n",
              " '2020',\n",
              " '2020',\n",
              " '2020',\n",
              " '2020',\n",
              " '2020',\n",
              " '2020',\n",
              " '2020',\n",
              " '2020',\n",
              " '2020',\n",
              " '2020',\n",
              " '2020',\n",
              " '2020',\n",
              " '2020',\n",
              " '2020',\n",
              " '2020',\n",
              " '2020',\n",
              " '2010',\n",
              " '2012',\n",
              " '2013',\n",
              " '2013',\n",
              " '2013',\n",
              " '2014',\n",
              " '2014',\n",
              " '2014',\n",
              " '2014',\n",
              " '2014',\n",
              " '2014',\n",
              " '2015',\n",
              " '2015',\n",
              " '2015',\n",
              " '2015',\n",
              " '2015',\n",
              " '2015',\n",
              " '2016',\n",
              " '2016',\n",
              " '2016',\n",
              " '2016',\n",
              " '2016',\n",
              " '2016',\n",
              " '2016',\n",
              " '2016',\n",
              " '2017',\n",
              " '2017',\n",
              " '2017',\n",
              " '2017',\n",
              " '2017',\n",
              " '2017',\n",
              " '2017',\n",
              " '2017',\n",
              " '2017',\n",
              " '2017',\n",
              " '2017',\n",
              " '2017',\n",
              " '2017',\n",
              " '2017',\n",
              " '2017',\n",
              " '2017',\n",
              " '2017',\n",
              " '2017',\n",
              " '2018',\n",
              " '2018',\n",
              " '2018',\n",
              " '2018',\n",
              " '2018',\n",
              " '2018',\n",
              " '2018',\n",
              " '2018',\n",
              " '2018',\n",
              " '2018',\n",
              " '2018',\n",
              " '2018',\n",
              " '2018',\n",
              " '2018',\n",
              " '2018',\n",
              " '2018',\n",
              " '2018',\n",
              " '2018',\n",
              " '2019',\n",
              " '2019',\n",
              " '2019',\n",
              " '2019',\n",
              " '2019',\n",
              " '2019',\n",
              " '2019',\n",
              " '2019',\n",
              " '2019',\n",
              " '2019',\n",
              " '2020',\n",
              " '2020',\n",
              " '2020',\n",
              " '2020',\n",
              " '2020',\n",
              " '2020',\n",
              " '2020',\n",
              " '2020',\n",
              " '2020',\n",
              " '2020',\n",
              " '2020',\n",
              " '2020',\n",
              " '2020',\n",
              " '2020',\n",
              " '2020',\n",
              " '2020',\n",
              " '2020',\n",
              " '2020',\n",
              " '2020',\n",
              " '2010',\n",
              " '2012',\n",
              " '2013',\n",
              " '2013',\n",
              " '2013',\n",
              " '2014',\n",
              " '2014',\n",
              " '2014',\n",
              " '2014',\n",
              " '2014',\n",
              " '2014',\n",
              " '2015',\n",
              " '2015',\n",
              " '2015',\n",
              " '2015',\n",
              " '2015',\n",
              " '2015',\n",
              " '2016',\n",
              " '2016',\n",
              " '2016',\n",
              " '2016',\n",
              " '2016',\n",
              " '2016',\n",
              " '2016',\n",
              " '2016',\n",
              " '2017',\n",
              " '2017',\n",
              " '2017',\n",
              " '2017',\n",
              " '2017',\n",
              " '2017',\n",
              " '2017',\n",
              " '2017',\n",
              " '2017',\n",
              " '2017',\n",
              " '2017',\n",
              " '2017',\n",
              " '2017',\n",
              " '2017',\n",
              " '2017',\n",
              " '2017',\n",
              " '2017',\n",
              " '2017',\n",
              " '2018',\n",
              " '2018',\n",
              " '2018',\n",
              " '2018',\n",
              " '2018',\n",
              " '2018',\n",
              " '2018',\n",
              " '2018',\n",
              " '2018',\n",
              " '2018',\n",
              " '2018',\n",
              " '2018',\n",
              " '2018',\n",
              " '2018',\n",
              " '2018',\n",
              " '2018',\n",
              " '2018',\n",
              " '2018',\n",
              " '2019',\n",
              " '2019',\n",
              " '2019',\n",
              " '2019',\n",
              " '2019',\n",
              " '2019',\n",
              " '2019',\n",
              " '2019',\n",
              " '2019',\n",
              " '2019',\n",
              " '2020',\n",
              " '2020',\n",
              " '2020',\n",
              " '2020',\n",
              " '2020',\n",
              " '2020',\n",
              " '2020',\n",
              " '2020',\n",
              " '2020',\n",
              " '2020',\n",
              " '2020',\n",
              " '2020',\n",
              " '2020',\n",
              " '2020',\n",
              " '2020',\n",
              " '2020',\n",
              " '2020',\n",
              " '2020',\n",
              " '2020',\n",
              " '2010',\n",
              " '2012',\n",
              " '2013',\n",
              " '2013',\n",
              " '2013',\n",
              " '2014',\n",
              " '2014',\n",
              " '2014',\n",
              " '2014',\n",
              " '2014',\n",
              " '2014',\n",
              " '2015',\n",
              " '2015',\n",
              " '2015',\n",
              " '2015',\n",
              " '2015',\n",
              " '2015',\n",
              " '2016',\n",
              " '2016',\n",
              " '2016',\n",
              " '2016',\n",
              " '2016',\n",
              " '2016',\n",
              " '2016',\n",
              " '2016',\n",
              " '2017',\n",
              " '2017',\n",
              " '2017',\n",
              " '2017',\n",
              " '2017',\n",
              " '2017',\n",
              " '2017',\n",
              " '2017',\n",
              " '2017',\n",
              " '2017',\n",
              " '2017',\n",
              " '2017',\n",
              " '2017',\n",
              " '2017',\n",
              " '2017',\n",
              " '2017',\n",
              " '2017',\n",
              " '2017',\n",
              " '2018',\n",
              " '2018',\n",
              " '2018',\n",
              " '2018',\n",
              " '2018',\n",
              " '2018',\n",
              " '2018',\n",
              " '2018',\n",
              " '2018',\n",
              " '2018',\n",
              " '2018',\n",
              " '2018',\n",
              " '2018',\n",
              " '2018',\n",
              " '2018',\n",
              " '2018',\n",
              " '2018',\n",
              " '2018',\n",
              " '2019',\n",
              " '2019',\n",
              " '2019',\n",
              " '2019',\n",
              " '2019',\n",
              " '2019',\n",
              " '2019',\n",
              " '2019',\n",
              " '2019',\n",
              " '2019',\n",
              " '2020',\n",
              " '2020',\n",
              " '2020',\n",
              " '2020',\n",
              " '2020',\n",
              " '2020',\n",
              " '2020',\n",
              " '2020',\n",
              " '2020',\n",
              " '2020',\n",
              " '2020',\n",
              " '2020',\n",
              " '2020',\n",
              " '2020',\n",
              " '2020',\n",
              " '2020',\n",
              " '2020',\n",
              " '2020',\n",
              " '2020',\n",
              " '2010',\n",
              " '2012',\n",
              " '2013',\n",
              " '2013',\n",
              " '2013',\n",
              " '2014',\n",
              " '2014',\n",
              " '2014',\n",
              " '2014',\n",
              " '2014',\n",
              " ...]"
            ]
          },
          "metadata": {},
          "execution_count": 14
        }
      ],
      "source": [
        "# A function to Extract years from the date \n",
        "year=[]\n",
        "def Extract_year(date):\n",
        "    for i in df[\"Date\"]:\n",
        "        year.append(i.split(\"-\")[0])\n",
        "    return year\n",
        "for each_date in df['Date']:\n",
        "  Extract_year(each_date)\n",
        "year"
      ]
    },
    {
      "cell_type": "code",
      "execution_count": null,
      "metadata": {
        "colab": {
          "base_uri": "https://localhost:8080/",
          "height": 1000
        },
        "id": "VdxcUOEegcfn",
        "outputId": "71b5e348-ebab-4a1d-bdd8-f07f014d0282"
      },
      "outputs": [
        {
          "output_type": "error",
          "ename": "KeyError",
          "evalue": "ignored",
          "traceback": [
            "\u001b[0;31m---------------------------------------------------------------------------\u001b[0m",
            "\u001b[0;31mKeyError\u001b[0m                                  Traceback (most recent call last)",
            "\u001b[0;32m<ipython-input-16-f1c64ffcd740>\u001b[0m in \u001b[0;36m<module>\u001b[0;34m()\u001b[0m\n\u001b[1;32m      1\u001b[0m \u001b[0;31m# Plot a line chart with x axis to be the extracted year and y axis to be the success rate\u001b[0m\u001b[0;34m\u001b[0m\u001b[0;34m\u001b[0m\u001b[0;34m\u001b[0m\u001b[0m\n\u001b[0;32m----> 2\u001b[0;31m \u001b[0msns\u001b[0m\u001b[0;34m.\u001b[0m\u001b[0mbarplot\u001b[0m\u001b[0;34m(\u001b[0m\u001b[0mx\u001b[0m \u001b[0;34m=\u001b[0m \u001b[0myear\u001b[0m\u001b[0;34m,\u001b[0m \u001b[0my\u001b[0m \u001b[0;34m=\u001b[0m \u001b[0mdf\u001b[0m\u001b[0;34m[\u001b[0m\u001b[0;34m'Class'\u001b[0m\u001b[0;34m]\u001b[0m\u001b[0;34m)\u001b[0m\u001b[0;34m\u001b[0m\u001b[0;34m\u001b[0m\u001b[0m\n\u001b[0m",
            "\u001b[0;32m/usr/local/lib/python3.7/dist-packages/seaborn/_decorators.py\u001b[0m in \u001b[0;36minner_f\u001b[0;34m(*args, **kwargs)\u001b[0m\n\u001b[1;32m     44\u001b[0m             )\n\u001b[1;32m     45\u001b[0m         \u001b[0mkwargs\u001b[0m\u001b[0;34m.\u001b[0m\u001b[0mupdate\u001b[0m\u001b[0;34m(\u001b[0m\u001b[0;34m{\u001b[0m\u001b[0mk\u001b[0m\u001b[0;34m:\u001b[0m \u001b[0marg\u001b[0m \u001b[0;32mfor\u001b[0m \u001b[0mk\u001b[0m\u001b[0;34m,\u001b[0m \u001b[0marg\u001b[0m \u001b[0;32min\u001b[0m \u001b[0mzip\u001b[0m\u001b[0;34m(\u001b[0m\u001b[0msig\u001b[0m\u001b[0;34m.\u001b[0m\u001b[0mparameters\u001b[0m\u001b[0;34m,\u001b[0m \u001b[0margs\u001b[0m\u001b[0;34m)\u001b[0m\u001b[0;34m}\u001b[0m\u001b[0;34m)\u001b[0m\u001b[0;34m\u001b[0m\u001b[0;34m\u001b[0m\u001b[0m\n\u001b[0;32m---> 46\u001b[0;31m         \u001b[0;32mreturn\u001b[0m \u001b[0mf\u001b[0m\u001b[0;34m(\u001b[0m\u001b[0;34m**\u001b[0m\u001b[0mkwargs\u001b[0m\u001b[0;34m)\u001b[0m\u001b[0;34m\u001b[0m\u001b[0;34m\u001b[0m\u001b[0m\n\u001b[0m\u001b[1;32m     47\u001b[0m     \u001b[0;32mreturn\u001b[0m \u001b[0minner_f\u001b[0m\u001b[0;34m\u001b[0m\u001b[0;34m\u001b[0m\u001b[0m\n\u001b[1;32m     48\u001b[0m \u001b[0;34m\u001b[0m\u001b[0m\n",
            "\u001b[0;32m/usr/local/lib/python3.7/dist-packages/seaborn/categorical.py\u001b[0m in \u001b[0;36mbarplot\u001b[0;34m(x, y, hue, data, order, hue_order, estimator, ci, n_boot, units, seed, orient, color, palette, saturation, errcolor, errwidth, capsize, dodge, ax, **kwargs)\u001b[0m\n\u001b[1;32m   3183\u001b[0m                           \u001b[0mestimator\u001b[0m\u001b[0;34m,\u001b[0m \u001b[0mci\u001b[0m\u001b[0;34m,\u001b[0m \u001b[0mn_boot\u001b[0m\u001b[0;34m,\u001b[0m \u001b[0munits\u001b[0m\u001b[0;34m,\u001b[0m \u001b[0mseed\u001b[0m\u001b[0;34m,\u001b[0m\u001b[0;34m\u001b[0m\u001b[0;34m\u001b[0m\u001b[0m\n\u001b[1;32m   3184\u001b[0m                           \u001b[0morient\u001b[0m\u001b[0;34m,\u001b[0m \u001b[0mcolor\u001b[0m\u001b[0;34m,\u001b[0m \u001b[0mpalette\u001b[0m\u001b[0;34m,\u001b[0m \u001b[0msaturation\u001b[0m\u001b[0;34m,\u001b[0m\u001b[0;34m\u001b[0m\u001b[0;34m\u001b[0m\u001b[0m\n\u001b[0;32m-> 3185\u001b[0;31m                           errcolor, errwidth, capsize, dodge)\n\u001b[0m\u001b[1;32m   3186\u001b[0m \u001b[0;34m\u001b[0m\u001b[0m\n\u001b[1;32m   3187\u001b[0m     \u001b[0;32mif\u001b[0m \u001b[0max\u001b[0m \u001b[0;32mis\u001b[0m \u001b[0;32mNone\u001b[0m\u001b[0;34m:\u001b[0m\u001b[0;34m\u001b[0m\u001b[0;34m\u001b[0m\u001b[0m\n",
            "\u001b[0;32m/usr/local/lib/python3.7/dist-packages/seaborn/categorical.py\u001b[0m in \u001b[0;36m__init__\u001b[0;34m(self, x, y, hue, data, order, hue_order, estimator, ci, n_boot, units, seed, orient, color, palette, saturation, errcolor, errwidth, capsize, dodge)\u001b[0m\n\u001b[1;32m   1583\u001b[0m         \u001b[0;34m\"\"\"Initialize the plotter.\"\"\"\u001b[0m\u001b[0;34m\u001b[0m\u001b[0;34m\u001b[0m\u001b[0m\n\u001b[1;32m   1584\u001b[0m         self.establish_variables(x, y, hue, data, orient,\n\u001b[0;32m-> 1585\u001b[0;31m                                  order, hue_order, units)\n\u001b[0m\u001b[1;32m   1586\u001b[0m         \u001b[0mself\u001b[0m\u001b[0;34m.\u001b[0m\u001b[0mestablish_colors\u001b[0m\u001b[0;34m(\u001b[0m\u001b[0mcolor\u001b[0m\u001b[0;34m,\u001b[0m \u001b[0mpalette\u001b[0m\u001b[0;34m,\u001b[0m \u001b[0msaturation\u001b[0m\u001b[0;34m)\u001b[0m\u001b[0;34m\u001b[0m\u001b[0;34m\u001b[0m\u001b[0m\n\u001b[1;32m   1587\u001b[0m         \u001b[0mself\u001b[0m\u001b[0;34m.\u001b[0m\u001b[0mestimate_statistic\u001b[0m\u001b[0;34m(\u001b[0m\u001b[0mestimator\u001b[0m\u001b[0;34m,\u001b[0m \u001b[0mci\u001b[0m\u001b[0;34m,\u001b[0m \u001b[0mn_boot\u001b[0m\u001b[0;34m,\u001b[0m \u001b[0mseed\u001b[0m\u001b[0;34m)\u001b[0m\u001b[0;34m\u001b[0m\u001b[0;34m\u001b[0m\u001b[0m\n",
            "\u001b[0;32m/usr/local/lib/python3.7/dist-packages/seaborn/categorical.py\u001b[0m in \u001b[0;36mestablish_variables\u001b[0;34m(self, x, y, hue, data, orient, order, hue_order, units)\u001b[0m\n\u001b[1;32m    205\u001b[0m                 \u001b[0;31m# Group the numeric data\u001b[0m\u001b[0;34m\u001b[0m\u001b[0;34m\u001b[0m\u001b[0;34m\u001b[0m\u001b[0m\n\u001b[1;32m    206\u001b[0m                 plot_data, value_label = self._group_longform(vals, groups,\n\u001b[0;32m--> 207\u001b[0;31m                                                               group_names)\n\u001b[0m\u001b[1;32m    208\u001b[0m \u001b[0;34m\u001b[0m\u001b[0m\n\u001b[1;32m    209\u001b[0m                 \u001b[0;31m# Now handle the hue levels for nested ordering\u001b[0m\u001b[0;34m\u001b[0m\u001b[0;34m\u001b[0m\u001b[0;34m\u001b[0m\u001b[0m\n",
            "\u001b[0;32m/usr/local/lib/python3.7/dist-packages/seaborn/categorical.py\u001b[0m in \u001b[0;36m_group_longform\u001b[0;34m(self, vals, grouper, order)\u001b[0m\n\u001b[1;32m    251\u001b[0m \u001b[0;34m\u001b[0m\u001b[0m\n\u001b[1;32m    252\u001b[0m         \u001b[0;31m# Group the val data\u001b[0m\u001b[0;34m\u001b[0m\u001b[0;34m\u001b[0m\u001b[0;34m\u001b[0m\u001b[0m\n\u001b[0;32m--> 253\u001b[0;31m         \u001b[0mgrouped_vals\u001b[0m \u001b[0;34m=\u001b[0m \u001b[0mvals\u001b[0m\u001b[0;34m.\u001b[0m\u001b[0mgroupby\u001b[0m\u001b[0;34m(\u001b[0m\u001b[0mgrouper\u001b[0m\u001b[0;34m)\u001b[0m\u001b[0;34m\u001b[0m\u001b[0;34m\u001b[0m\u001b[0m\n\u001b[0m\u001b[1;32m    254\u001b[0m         \u001b[0mout_data\u001b[0m \u001b[0;34m=\u001b[0m \u001b[0;34m[\u001b[0m\u001b[0;34m]\u001b[0m\u001b[0;34m\u001b[0m\u001b[0;34m\u001b[0m\u001b[0m\n\u001b[1;32m    255\u001b[0m         \u001b[0;32mfor\u001b[0m \u001b[0mg\u001b[0m \u001b[0;32min\u001b[0m \u001b[0morder\u001b[0m\u001b[0;34m:\u001b[0m\u001b[0;34m\u001b[0m\u001b[0;34m\u001b[0m\u001b[0m\n",
            "\u001b[0;32m/usr/local/lib/python3.7/dist-packages/pandas/core/series.py\u001b[0m in \u001b[0;36mgroupby\u001b[0;34m(self, by, axis, level, as_index, sort, group_keys, squeeze, observed, dropna)\u001b[0m\n\u001b[1;32m   1744\u001b[0m             \u001b[0msqueeze\u001b[0m\u001b[0;34m=\u001b[0m\u001b[0msqueeze\u001b[0m\u001b[0;34m,\u001b[0m\u001b[0;34m\u001b[0m\u001b[0;34m\u001b[0m\u001b[0m\n\u001b[1;32m   1745\u001b[0m             \u001b[0mobserved\u001b[0m\u001b[0;34m=\u001b[0m\u001b[0mobserved\u001b[0m\u001b[0;34m,\u001b[0m\u001b[0;34m\u001b[0m\u001b[0;34m\u001b[0m\u001b[0m\n\u001b[0;32m-> 1746\u001b[0;31m             \u001b[0mdropna\u001b[0m\u001b[0;34m=\u001b[0m\u001b[0mdropna\u001b[0m\u001b[0;34m,\u001b[0m\u001b[0;34m\u001b[0m\u001b[0;34m\u001b[0m\u001b[0m\n\u001b[0m\u001b[1;32m   1747\u001b[0m         )\n\u001b[1;32m   1748\u001b[0m \u001b[0;34m\u001b[0m\u001b[0m\n",
            "\u001b[0;32m/usr/local/lib/python3.7/dist-packages/pandas/core/groupby/groupby.py\u001b[0m in \u001b[0;36m__init__\u001b[0;34m(self, obj, keys, axis, level, grouper, exclusions, selection, as_index, sort, group_keys, squeeze, observed, mutated, dropna)\u001b[0m\n\u001b[1;32m    531\u001b[0m                 \u001b[0mobserved\u001b[0m\u001b[0;34m=\u001b[0m\u001b[0mobserved\u001b[0m\u001b[0;34m,\u001b[0m\u001b[0;34m\u001b[0m\u001b[0;34m\u001b[0m\u001b[0m\n\u001b[1;32m    532\u001b[0m                 \u001b[0mmutated\u001b[0m\u001b[0;34m=\u001b[0m\u001b[0mself\u001b[0m\u001b[0;34m.\u001b[0m\u001b[0mmutated\u001b[0m\u001b[0;34m,\u001b[0m\u001b[0;34m\u001b[0m\u001b[0;34m\u001b[0m\u001b[0m\n\u001b[0;32m--> 533\u001b[0;31m                 \u001b[0mdropna\u001b[0m\u001b[0;34m=\u001b[0m\u001b[0mself\u001b[0m\u001b[0;34m.\u001b[0m\u001b[0mdropna\u001b[0m\u001b[0;34m,\u001b[0m\u001b[0;34m\u001b[0m\u001b[0;34m\u001b[0m\u001b[0m\n\u001b[0m\u001b[1;32m    534\u001b[0m             )\n\u001b[1;32m    535\u001b[0m \u001b[0;34m\u001b[0m\u001b[0m\n",
            "\u001b[0;32m/usr/local/lib/python3.7/dist-packages/pandas/core/groupby/grouper.py\u001b[0m in \u001b[0;36mget_grouper\u001b[0;34m(obj, key, axis, level, sort, observed, mutated, validate, dropna)\u001b[0m\n\u001b[1;32m    784\u001b[0m                 \u001b[0min_axis\u001b[0m\u001b[0;34m,\u001b[0m \u001b[0mname\u001b[0m\u001b[0;34m,\u001b[0m \u001b[0mlevel\u001b[0m\u001b[0;34m,\u001b[0m \u001b[0mgpr\u001b[0m \u001b[0;34m=\u001b[0m \u001b[0;32mFalse\u001b[0m\u001b[0;34m,\u001b[0m \u001b[0;32mNone\u001b[0m\u001b[0;34m,\u001b[0m \u001b[0mgpr\u001b[0m\u001b[0;34m,\u001b[0m \u001b[0;32mNone\u001b[0m\u001b[0;34m\u001b[0m\u001b[0;34m\u001b[0m\u001b[0m\n\u001b[1;32m    785\u001b[0m             \u001b[0;32melse\u001b[0m\u001b[0;34m:\u001b[0m\u001b[0;34m\u001b[0m\u001b[0;34m\u001b[0m\u001b[0m\n\u001b[0;32m--> 786\u001b[0;31m                 \u001b[0;32mraise\u001b[0m \u001b[0mKeyError\u001b[0m\u001b[0;34m(\u001b[0m\u001b[0mgpr\u001b[0m\u001b[0;34m)\u001b[0m\u001b[0;34m\u001b[0m\u001b[0;34m\u001b[0m\u001b[0m\n\u001b[0m\u001b[1;32m    787\u001b[0m         \u001b[0;32melif\u001b[0m \u001b[0misinstance\u001b[0m\u001b[0;34m(\u001b[0m\u001b[0mgpr\u001b[0m\u001b[0;34m,\u001b[0m \u001b[0mGrouper\u001b[0m\u001b[0;34m)\u001b[0m \u001b[0;32mand\u001b[0m \u001b[0mgpr\u001b[0m\u001b[0;34m.\u001b[0m\u001b[0mkey\u001b[0m \u001b[0;32mis\u001b[0m \u001b[0;32mnot\u001b[0m \u001b[0;32mNone\u001b[0m\u001b[0;34m:\u001b[0m\u001b[0;34m\u001b[0m\u001b[0;34m\u001b[0m\u001b[0m\n\u001b[1;32m    788\u001b[0m             \u001b[0;31m# Add key to exclusions\u001b[0m\u001b[0;34m\u001b[0m\u001b[0;34m\u001b[0m\u001b[0;34m\u001b[0m\u001b[0m\n",
            "\u001b[0;31mKeyError\u001b[0m: '2010'"
          ]
        }
      ],
      "source": [
        "# Plot a line chart with x axis to be the extracted year and y axis to be the success rate\n",
        "sns.barplot(x = year, y = df['Class'])"
      ]
    },
    {
      "cell_type": "markdown",
      "metadata": {
        "id": "SfkEQuMugcfn"
      },
      "source": [
        "you can observe that the sucess rate since 2013 kept increasing till 2020\n"
      ]
    },
    {
      "cell_type": "markdown",
      "metadata": {
        "id": "MNPHoY5qgcfn"
      },
      "source": [
        "## Features Engineering\n"
      ]
    },
    {
      "cell_type": "markdown",
      "metadata": {
        "id": "71IugIoIgcfo"
      },
      "source": [
        "By now, you should obtain some preliminary insights about how each important variable would affect the success rate, we will select the features that will be used in success prediction in the future module.\n"
      ]
    },
    {
      "cell_type": "code",
      "execution_count": null,
      "metadata": {
        "id": "Vb8RTDrlgcfo",
        "colab": {
          "base_uri": "https://localhost:8080/",
          "height": 204
        },
        "outputId": "64c27030-ae9a-4432-d5ba-05b2da308b32"
      },
      "outputs": [
        {
          "output_type": "execute_result",
          "data": {
            "text/html": [
              "\n",
              "  <div id=\"df-af5602c5-8400-4172-b00e-4de94beb3da6\">\n",
              "    <div class=\"colab-df-container\">\n",
              "      <div>\n",
              "<style scoped>\n",
              "    .dataframe tbody tr th:only-of-type {\n",
              "        vertical-align: middle;\n",
              "    }\n",
              "\n",
              "    .dataframe tbody tr th {\n",
              "        vertical-align: top;\n",
              "    }\n",
              "\n",
              "    .dataframe thead th {\n",
              "        text-align: right;\n",
              "    }\n",
              "</style>\n",
              "<table border=\"1\" class=\"dataframe\">\n",
              "  <thead>\n",
              "    <tr style=\"text-align: right;\">\n",
              "      <th></th>\n",
              "      <th>FlightNumber</th>\n",
              "      <th>PayloadMass</th>\n",
              "      <th>Orbit</th>\n",
              "      <th>LaunchSite</th>\n",
              "      <th>Flights</th>\n",
              "      <th>GridFins</th>\n",
              "      <th>Reused</th>\n",
              "      <th>Legs</th>\n",
              "      <th>LandingPad</th>\n",
              "      <th>Block</th>\n",
              "      <th>ReusedCount</th>\n",
              "      <th>Serial</th>\n",
              "    </tr>\n",
              "  </thead>\n",
              "  <tbody>\n",
              "    <tr>\n",
              "      <th>0</th>\n",
              "      <td>1</td>\n",
              "      <td>6104.959412</td>\n",
              "      <td>LEO</td>\n",
              "      <td>CCAFS SLC 40</td>\n",
              "      <td>1</td>\n",
              "      <td>False</td>\n",
              "      <td>False</td>\n",
              "      <td>False</td>\n",
              "      <td>NaN</td>\n",
              "      <td>1.0</td>\n",
              "      <td>0</td>\n",
              "      <td>B0003</td>\n",
              "    </tr>\n",
              "    <tr>\n",
              "      <th>1</th>\n",
              "      <td>2</td>\n",
              "      <td>525.000000</td>\n",
              "      <td>LEO</td>\n",
              "      <td>CCAFS SLC 40</td>\n",
              "      <td>1</td>\n",
              "      <td>False</td>\n",
              "      <td>False</td>\n",
              "      <td>False</td>\n",
              "      <td>NaN</td>\n",
              "      <td>1.0</td>\n",
              "      <td>0</td>\n",
              "      <td>B0005</td>\n",
              "    </tr>\n",
              "    <tr>\n",
              "      <th>2</th>\n",
              "      <td>3</td>\n",
              "      <td>677.000000</td>\n",
              "      <td>ISS</td>\n",
              "      <td>CCAFS SLC 40</td>\n",
              "      <td>1</td>\n",
              "      <td>False</td>\n",
              "      <td>False</td>\n",
              "      <td>False</td>\n",
              "      <td>NaN</td>\n",
              "      <td>1.0</td>\n",
              "      <td>0</td>\n",
              "      <td>B0007</td>\n",
              "    </tr>\n",
              "    <tr>\n",
              "      <th>3</th>\n",
              "      <td>4</td>\n",
              "      <td>500.000000</td>\n",
              "      <td>PO</td>\n",
              "      <td>VAFB SLC 4E</td>\n",
              "      <td>1</td>\n",
              "      <td>False</td>\n",
              "      <td>False</td>\n",
              "      <td>False</td>\n",
              "      <td>NaN</td>\n",
              "      <td>1.0</td>\n",
              "      <td>0</td>\n",
              "      <td>B1003</td>\n",
              "    </tr>\n",
              "    <tr>\n",
              "      <th>4</th>\n",
              "      <td>5</td>\n",
              "      <td>3170.000000</td>\n",
              "      <td>GTO</td>\n",
              "      <td>CCAFS SLC 40</td>\n",
              "      <td>1</td>\n",
              "      <td>False</td>\n",
              "      <td>False</td>\n",
              "      <td>False</td>\n",
              "      <td>NaN</td>\n",
              "      <td>1.0</td>\n",
              "      <td>0</td>\n",
              "      <td>B1004</td>\n",
              "    </tr>\n",
              "  </tbody>\n",
              "</table>\n",
              "</div>\n",
              "      <button class=\"colab-df-convert\" onclick=\"convertToInteractive('df-af5602c5-8400-4172-b00e-4de94beb3da6')\"\n",
              "              title=\"Convert this dataframe to an interactive table.\"\n",
              "              style=\"display:none;\">\n",
              "        \n",
              "  <svg xmlns=\"http://www.w3.org/2000/svg\" height=\"24px\"viewBox=\"0 0 24 24\"\n",
              "       width=\"24px\">\n",
              "    <path d=\"M0 0h24v24H0V0z\" fill=\"none\"/>\n",
              "    <path d=\"M18.56 5.44l.94 2.06.94-2.06 2.06-.94-2.06-.94-.94-2.06-.94 2.06-2.06.94zm-11 1L8.5 8.5l.94-2.06 2.06-.94-2.06-.94L8.5 2.5l-.94 2.06-2.06.94zm10 10l.94 2.06.94-2.06 2.06-.94-2.06-.94-.94-2.06-.94 2.06-2.06.94z\"/><path d=\"M17.41 7.96l-1.37-1.37c-.4-.4-.92-.59-1.43-.59-.52 0-1.04.2-1.43.59L10.3 9.45l-7.72 7.72c-.78.78-.78 2.05 0 2.83L4 21.41c.39.39.9.59 1.41.59.51 0 1.02-.2 1.41-.59l7.78-7.78 2.81-2.81c.8-.78.8-2.07 0-2.86zM5.41 20L4 18.59l7.72-7.72 1.47 1.35L5.41 20z\"/>\n",
              "  </svg>\n",
              "      </button>\n",
              "      \n",
              "  <style>\n",
              "    .colab-df-container {\n",
              "      display:flex;\n",
              "      flex-wrap:wrap;\n",
              "      gap: 12px;\n",
              "    }\n",
              "\n",
              "    .colab-df-convert {\n",
              "      background-color: #E8F0FE;\n",
              "      border: none;\n",
              "      border-radius: 50%;\n",
              "      cursor: pointer;\n",
              "      display: none;\n",
              "      fill: #1967D2;\n",
              "      height: 32px;\n",
              "      padding: 0 0 0 0;\n",
              "      width: 32px;\n",
              "    }\n",
              "\n",
              "    .colab-df-convert:hover {\n",
              "      background-color: #E2EBFA;\n",
              "      box-shadow: 0px 1px 2px rgba(60, 64, 67, 0.3), 0px 1px 3px 1px rgba(60, 64, 67, 0.15);\n",
              "      fill: #174EA6;\n",
              "    }\n",
              "\n",
              "    [theme=dark] .colab-df-convert {\n",
              "      background-color: #3B4455;\n",
              "      fill: #D2E3FC;\n",
              "    }\n",
              "\n",
              "    [theme=dark] .colab-df-convert:hover {\n",
              "      background-color: #434B5C;\n",
              "      box-shadow: 0px 1px 3px 1px rgba(0, 0, 0, 0.15);\n",
              "      filter: drop-shadow(0px 1px 2px rgba(0, 0, 0, 0.3));\n",
              "      fill: #FFFFFF;\n",
              "    }\n",
              "  </style>\n",
              "\n",
              "      <script>\n",
              "        const buttonEl =\n",
              "          document.querySelector('#df-af5602c5-8400-4172-b00e-4de94beb3da6 button.colab-df-convert');\n",
              "        buttonEl.style.display =\n",
              "          google.colab.kernel.accessAllowed ? 'block' : 'none';\n",
              "\n",
              "        async function convertToInteractive(key) {\n",
              "          const element = document.querySelector('#df-af5602c5-8400-4172-b00e-4de94beb3da6');\n",
              "          const dataTable =\n",
              "            await google.colab.kernel.invokeFunction('convertToInteractive',\n",
              "                                                     [key], {});\n",
              "          if (!dataTable) return;\n",
              "\n",
              "          const docLinkHtml = 'Like what you see? Visit the ' +\n",
              "            '<a target=\"_blank\" href=https://colab.research.google.com/notebooks/data_table.ipynb>data table notebook</a>'\n",
              "            + ' to learn more about interactive tables.';\n",
              "          element.innerHTML = '';\n",
              "          dataTable['output_type'] = 'display_data';\n",
              "          await google.colab.output.renderOutput(dataTable, element);\n",
              "          const docLink = document.createElement('div');\n",
              "          docLink.innerHTML = docLinkHtml;\n",
              "          element.appendChild(docLink);\n",
              "        }\n",
              "      </script>\n",
              "    </div>\n",
              "  </div>\n",
              "  "
            ],
            "text/plain": [
              "   FlightNumber  PayloadMass Orbit  ... Block  ReusedCount  Serial\n",
              "0             1  6104.959412   LEO  ...   1.0            0   B0003\n",
              "1             2   525.000000   LEO  ...   1.0            0   B0005\n",
              "2             3   677.000000   ISS  ...   1.0            0   B0007\n",
              "3             4   500.000000    PO  ...   1.0            0   B1003\n",
              "4             5  3170.000000   GTO  ...   1.0            0   B1004\n",
              "\n",
              "[5 rows x 12 columns]"
            ]
          },
          "metadata": {},
          "execution_count": 17
        }
      ],
      "source": [
        "features = df[['FlightNumber', 'PayloadMass', 'Orbit', 'LaunchSite', 'Flights', 'GridFins', 'Reused', 'Legs', 'LandingPad', 'Block', 'ReusedCount', 'Serial']]\n",
        "features.head()"
      ]
    },
    {
      "cell_type": "markdown",
      "metadata": {
        "id": "tt044uk6gcfo"
      },
      "source": [
        "### TASK  7: Create dummy variables to categorical columns\n"
      ]
    },
    {
      "cell_type": "markdown",
      "metadata": {
        "id": "ZbtM9yvJgcfp"
      },
      "source": [
        "Use the function <code>get_dummies</code> and <code>features</code> dataframe to apply OneHotEncoder to the column <code>Orbits</code>, <code>LaunchSite</code>, <code>LandingPad</code>, and <code>Serial</code>. Assign the value to the variable <code>features_one_hot</code>, display the results using the method head. Your result dataframe must include all features including the encoded ones.\n"
      ]
    },
    {
      "cell_type": "code",
      "execution_count": null,
      "metadata": {
        "id": "XIRkEkeEgcfp"
      },
      "outputs": [],
      "source": [
        "# HINT: Use get_dummies() function on the categorical columns\n"
      ]
    },
    {
      "cell_type": "markdown",
      "metadata": {
        "id": "dXrEB5b-gcfp"
      },
      "source": [
        "### TASK  8: Cast all numeric columns to `float64`\n"
      ]
    },
    {
      "cell_type": "markdown",
      "metadata": {
        "id": "1VMrWY9Mgcfq"
      },
      "source": [
        "Now that our <code>features_one_hot</code> dataframe only contains numbers cast the entire dataframe to variable type <code>float64</code>\n"
      ]
    },
    {
      "cell_type": "code",
      "execution_count": null,
      "metadata": {
        "id": "BCALkjeHgcfq"
      },
      "outputs": [],
      "source": [
        "# HINT: use astype function\n"
      ]
    },
    {
      "cell_type": "markdown",
      "metadata": {
        "id": "NCB-15JGgcfq"
      },
      "source": [
        "We can now export it to a <b>CSV</b> for the next section,but to make the answers consistent, in the next lab we will provide data in a pre-selected date range.\n"
      ]
    },
    {
      "cell_type": "markdown",
      "metadata": {
        "id": "UvleEF0ggcfq"
      },
      "source": [
        "<code>features_one_hot.to_csv('dataset_part\\_3.csv', index=False)</code>\n"
      ]
    },
    {
      "cell_type": "markdown",
      "metadata": {
        "id": "rIyANUv8gcfq"
      },
      "source": [
        "## Authors\n"
      ]
    },
    {
      "cell_type": "markdown",
      "metadata": {
        "id": "q28K_EABgcfq"
      },
      "source": [
        "<a href=\"https://www.linkedin.com/in/joseph-s-50398b136/?utm_medium=Exinfluencer&utm_source=Exinfluencer&utm_content=000026UJ&utm_term=10006555&utm_id=NA-SkillsNetwork-Channel-SkillsNetworkCoursesIBMDS0321ENSkillsNetwork26802033-2021-01-01\">Joseph Santarcangelo</a> has a PhD in Electrical Engineering, his research focused on using machine learning, signal processing, and computer vision to determine how videos impact human cognition. Joseph has been working for IBM since he completed his PhD.\n"
      ]
    },
    {
      "cell_type": "markdown",
      "metadata": {
        "id": "dCL59Flzgcfr"
      },
      "source": [
        "<a href=\"https://www.linkedin.com/in/nayefaboutayoun/?utm_medium=Exinfluencer&utm_source=Exinfluencer&utm_content=000026UJ&utm_term=10006555&utm_id=NA-SkillsNetwork-Channel-SkillsNetworkCoursesIBMDS0321ENSkillsNetwork26802033-2021-01-01\">Nayef Abou Tayoun</a> is a Data Scientist at IBM and pursuing a Master of Management in Artificial intelligence degree at Queen's University.\n"
      ]
    },
    {
      "cell_type": "markdown",
      "metadata": {
        "id": "7-UBg7bPgcfr"
      },
      "source": [
        "## Change Log\n"
      ]
    },
    {
      "cell_type": "markdown",
      "metadata": {
        "id": "Y3PtVh7Dgcfr"
      },
      "source": [
        "| Date (YYYY-MM-DD) | Version | Changed By    | Change Description      |\n",
        "| ----------------- | ------- | ------------- | ----------------------- |\n",
        "| 2021-10-12        | 1.1     | Lakshmi Holla | Modified markdown       |\n",
        "| 2020-09-20        | 1.0     | Joseph        | Modified Multiple Areas |\n",
        "| 2020-11-10        | 1.1     | Nayef         | updating the input data |\n"
      ]
    },
    {
      "cell_type": "markdown",
      "metadata": {
        "id": "x8A_46clgcfr"
      },
      "source": [
        "Copyright © 2020 IBM Corporation. All rights reserved.\n"
      ]
    }
  ],
  "metadata": {
    "kernelspec": {
      "display_name": "Python 3",
      "language": "python",
      "name": "python3"
    },
    "language_info": {
      "codemirror_mode": {
        "name": "ipython",
        "version": 3
      },
      "file_extension": ".py",
      "mimetype": "text/x-python",
      "name": "python",
      "nbconvert_exporter": "python",
      "pygments_lexer": "ipython3",
      "version": "3.8.8"
    },
    "colab": {
      "name": "jupyter-labs-eda-dataviz.ipynb",
      "provenance": [],
      "collapsed_sections": [
        "tt044uk6gcfo",
        "dXrEB5b-gcfp"
      ],
      "include_colab_link": true
    }
  },
  "nbformat": 4,
  "nbformat_minor": 0
}